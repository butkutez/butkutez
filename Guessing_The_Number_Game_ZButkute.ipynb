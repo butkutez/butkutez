{
  "nbformat": 4,
  "nbformat_minor": 0,
  "metadata": {
    "colab": {
      "provenance": [],
      "collapsed_sections": [
        "Bcye9dxiB-ei"
      ],
      "authorship_tag": "ABX9TyMmfiIj0bdjrBDMsqdUrbNy",
      "include_colab_link": true
    },
    "kernelspec": {
      "name": "python3",
      "display_name": "Python 3"
    },
    "language_info": {
      "name": "python"
    }
  },
  "cells": [
    {
      "cell_type": "markdown",
      "metadata": {
        "id": "view-in-github",
        "colab_type": "text"
      },
      "source": [
        "<a href=\"https://colab.research.google.com/github/butkutez/butkutez/blob/main/Guessing_The_Number_Game_ZButkute.ipynb\" target=\"_parent\"><img src=\"https://colab.research.google.com/assets/colab-badge.svg\" alt=\"Open In Colab\"/></a>"
      ]
    },
    {
      "cell_type": "code",
      "execution_count": null,
      "metadata": {
        "id": "8k5NJFPn719j"
      },
      "outputs": [],
      "source": []
    },
    {
      "cell_type": "markdown",
      "source": [
        "# **Guess The Number Game**"
      ],
      "metadata": {
        "id": "mjdEEDnn8PpC"
      }
    },
    {
      "cell_type": "markdown",
      "source": [
        "## Description\n",
        "\n",
        "\"Guess the Number\" is a game created using the Python programming language, where the computer generates a random number between 1 and 100, and the player has to guess it. The player receives feedback after each guess, indicating whether their guess is too low or too high. The goal is to guess the number within 10 attempts. The game code makes use of functions, loops, conditionals, and input handling."
      ],
      "metadata": {
        "id": "eC4ZH6g08oh7"
      }
    },
    {
      "cell_type": "markdown",
      "source": [
        "## Main Code"
      ],
      "metadata": {
        "id": "Bcye9dxiB-ei"
      }
    },
    {
      "cell_type": "code",
      "source": [
        "import random\n",
        "\n",
        "\n",
        "# Step 1: Function to generate a random number\n",
        "def generate_random_number():\n",
        "    return random.randint(1, 100)  # Random number between 1 and 100\n",
        "\n",
        "\n",
        "# Step 2: Function to manage one round of play\n",
        "def play_round(target_number):\n",
        "    try:\n",
        "        guess = int(input(\"Enter your guess (1-100): \"))\n",
        "    except ValueError:\n",
        "        print(\"Please enter a valid number.\")\n",
        "        return False  # Invalid input does not count as a correct guess\n",
        "\n",
        "    if guess < 1 or guess > 100:\n",
        "        print(\"Your guess must be between 1 and 100.\")\n",
        "        return False\n",
        "\n",
        "    if guess == target_number:\n",
        "        return True\n",
        "    elif guess < target_number:\n",
        "        print(\"Too low!\")\n",
        "    else:\n",
        "        print(\"Too high!\")\n",
        "    return False\n",
        "\n",
        "\n",
        "# Step 3: Main game loop\n",
        "def guess_the_number():\n",
        "\n",
        "    player_name = input(\"Enter your name: \")\n",
        "\n",
        "    target_number = generate_random_number()\n",
        "    max_rounds = 10\n",
        "\n",
        "    for round_number in range(1, max_rounds + 1):\n",
        "        print(f\"\\nRound {round_number} of {max_rounds}\")\n",
        "        if play_round(target_number):\n",
        "            print(f\"{player_name}, you guessed the correct number in {round_number} rounds.\")\n",
        "            break\n",
        "    else:\n",
        "        print(f\"{player_name}, you failed, try again!\")\n",
        "\n",
        "\n",
        "# Start the game\n",
        "guess_the_number()\n",
        "\n"
      ],
      "metadata": {
        "id": "yfQM3v0mB3bc"
      },
      "execution_count": null,
      "outputs": []
    },
    {
      "cell_type": "markdown",
      "source": [
        "## Code Structure\n",
        "###Functions:\n",
        "1. **generate_random_number()**\n",
        "    \n",
        "    *   Purpose: Creates a random number the player must guess.\n",
        "\n",
        "    *   Input: None.\n",
        "\n",
        "    *   Output: An integer between 1 and 100.\n",
        "\n",
        "    *   Notes: Uses Pythons random.randint(1, 100).\n",
        "\n",
        "\n",
        "2. **play_round(target_number)**\n",
        "\n",
        "    *   Purpose: Handles one guessing attempt\n",
        "\n",
        "    *   Input: target_number - the secret integer to be guessed.\n",
        "\n",
        "      **Behaviour:**\n",
        "\n",
        "      *   Prompts the player with Enter your guess (1-100):.\n",
        "\n",
        "      *   Validates the input (checks it is an integer and between 1 and 100).\n",
        "\n",
        "      *   If input is invalid, prints an error message and returns False (the round does not count as a win).\n",
        "\n",
        "      *   If the guess equals target_number, returns True.\n",
        "\n",
        "      *   If the guess is too low, prints \"Too low\" and returns False. If the guess is too high, prints \"Too high!\" and returns False.\n",
        "\n",
        "      *   Output: True if the guess is correct, otherwise False.\n",
        "\n",
        "\n",
        "3. **guess_the_number()**\n",
        "\n",
        "    *   Purpose: The main game loop that runs the whole game.\n",
        "\n",
        "    *   Input/Interaction: Asks the player for their name, then runs up to max_rounds rounds (default is 10).\n",
        "\n",
        "      **Behaviour:**\n",
        "          \n",
        "      *  Calls generate_random_number() to pick the secret number.\n",
        "\n",
        "      *   Repeats calling play_round(target_number) up to 10 times (one per round).\n",
        "\n",
        "      *   If play_round returns True, announces success and the round count, then ends the game.\n",
        "\n",
        "      *   If the player uses all attempts without guessing correctly, prints a failure message.\n",
        "\n",
        "      *   Output: Prints game progress and final result to the console."
      ],
      "metadata": {
        "id": "mwMU9zc1-Fh4"
      }
    },
    {
      "cell_type": "markdown",
      "source": [
        "## How To Play The Game\n",
        "\n",
        "To play “Guess the Number”, simply run the game and follow the on-screen instructions. At the start, the game will ask for your name. Then, the computer secretly selects a random number between 1 and 100. Your goal is to guess the correct number within 10 attempts.\n",
        "\n",
        "After each guess, the game will tell you if your number is too low or too high, helping you narrow down the answer. If you guess the correct number, the game shows how many rounds it took. If you do not guess it within 10 rounds, the game ends and reveals that you did not succeed - but you can play again anytime.\n",
        "\n",
        "**Rules:**\n",
        "\n",
        "*   Enter only whole numbers between 1 and 100.\n",
        "\n",
        "*   Invalid inputs (like text or numbers outside the range) will not count as a correct guess.\n",
        "\n",
        "*   Use the feedback (“Too low” / “Too high”) to adjust your next guess.\n",
        "\n",
        "\n",
        "\n"
      ],
      "metadata": {
        "id": "rnlYF4PDCULR"
      }
    },
    {
      "cell_type": "markdown",
      "source": [
        "##Contributors\n",
        "\n",
        "Zivile Butkute ❤"
      ],
      "metadata": {
        "id": "1qRqPA9lDWf2"
      }
    }
  ]
}